{
 "cells": [
  {
   "cell_type": "code",
   "execution_count": 16,
   "id": "d2776309-3436-46b6-a1f5-ce6517f11a3f",
   "metadata": {},
   "outputs": [],
   "source": [
    "import pandas as pd\n",
    "import folium\n",
    "import math"
   ]
  },
  {
   "cell_type": "code",
   "execution_count": 18,
   "id": "ecf4eefa-d7c4-4753-b6f8-d32a0d101762",
   "metadata": {},
   "outputs": [],
   "source": [
    "# Função para calcular a distância usando a fórmula de Haversine\n",
    "def haversine(lat1, lon1, lat2, lon2):\n",
    "    # Raio da Terra em km\n",
    "    R = 6371.0\n",
    "    # Converter as coordenadas de graus para radianos\n",
    "    lat1 = math.radians(lat1)\n",
    "    lon1 = math.radians(lon1)\n",
    "    lat2 = math.radians(lat2)\n",
    "    lon2 = math.radians(lon2)\n",
    "       # Diferenças\n",
    "    dlat = lat2 - lat1\n",
    "    dlon = lon2 - lon1\n",
    "    \n",
    "      # Fórmula de Haversine\n",
    "    a = math.sin(dlat / 2)**2 + math.cos(lat1) * math.cos(lat2) * math.sin(dlon / 2)**2\n",
    "    c = 2 * math.atan2(math.sqrt(a), math.sqrt(1 - a))\n",
    "\n",
    "    # Distância em km\n",
    "    distance = R * c\n",
    "    return distance"
   ]
  },
  {
   "cell_type": "code",
   "execution_count": 20,
   "id": "15bb35a2-3d65-48d9-a1d7-b55066ef0c73",
   "metadata": {},
   "outputs": [],
   "source": [
    "# Carregar o arquivo CSV\n",
    "df = pd.read_csv(\"cidades_brasil_mundo.csv\")"
   ]
  },
  {
   "cell_type": "code",
   "execution_count": 22,
   "id": "768f5544-44da-4cfa-b920-22677c03b6f8",
   "metadata": {},
   "outputs": [],
   "source": [
    "# Criar um mapa centralizado na primeira cidade\n",
    "mapa = folium.Map(location=[df.iloc[0][\"Latitude\"], df.iloc[0][\"Longitude\"]], zoom_start=3)"
   ]
  },
  {
   "cell_type": "code",
   "execution_count": 24,
   "id": "a0527376-871d-40ca-850a-200b19009d2c",
   "metadata": {},
   "outputs": [],
   "source": [
    "coordenadas = []"
   ]
  },
  {
   "cell_type": "code",
   "execution_count": 26,
   "id": "bb84e33f-8c23-469b-8fb6-e09a1e9a6f59",
   "metadata": {},
   "outputs": [
    {
     "name": "stdout",
     "output_type": "stream",
     "text": [
      "Distância entre São Paulo e Rio de Janeiro: 360.75 km\n",
      "Distância entre São Paulo e Belo Horizonte: 490.85 km\n",
      "Distância entre São Paulo e Salvador: 1455.41 km\n",
      "Distância entre São Paulo e Brasília: 869.36 km\n",
      "Distância entre São Paulo e Curitiba: 339.05 km\n",
      "Distância entre São Paulo e Porto Alegre: 852.34 km\n",
      "Distância entre São Paulo e Fortaleza: 2370.40 km\n",
      "Distância entre São Paulo e Manaus: 2689.47 km\n",
      "Distância entre São Paulo e Recife: 2131.06 km\n",
      "Distância entre São Paulo e Nova York: 7685.63 km\n",
      "Distância entre São Paulo e Londres: 9497.40 km\n",
      "Distância entre São Paulo e Tóquio: 18534.24 km\n",
      "Distância entre São Paulo e Paris: 9401.89 km\n",
      "Distância entre São Paulo e Berlim: 10252.87 km\n",
      "Distância entre São Paulo e Moscou: 11806.41 km\n",
      "Distância entre São Paulo e Pequim: 17599.19 km\n",
      "Distância entre São Paulo e Sydney: 13357.21 km\n",
      "Distância entre São Paulo e Cidade do México: 7432.02 km\n",
      "Distância entre São Paulo e Buenos Aires: 1674.87 km\n"
     ]
    }
   ],
   "source": [
    "# Adicionar marcadores para cada cidade\n",
    "for index, row in df.iterrows():\n",
    "    coordenadas.append([row[\"Latitude\"], row[\"Longitude\"]])\n",
    "    \n",
    "    folium.Marker(\n",
    "        location=[row[\"Latitude\"], row[\"Longitude\"]],\n",
    "        popup=f\"{row['Cidade']} - {row['Estado/País']}\\n\"\n",
    "              f\"<a href='https://www.google.com/maps/search/?api=1&query={row['Latitude']},{row['Longitude']}' target='_blank'>Ver no Google Maps</a>\",\n",
    "        tooltip=row[\"Cidade\"]\n",
    "    ).add_to(mapa)\n",
    " # Exemplo: Calcular a distância entre a cidade atual e a primeira cidade do DataFrame\n",
    "    if index > 0:  # Para evitar calcular para a primeira cidade\n",
    "        dist = haversine(df.iloc[0][\"Latitude\"], df.iloc[0][\"Longitude\"], row[\"Latitude\"], row[\"Longitude\"])\n",
    "        print(f\"Distância entre {df.iloc[0]['Cidade']} e {row['Cidade']}: {dist:.2f} km\")"
   ]
  },
  {
   "cell_type": "code",
   "execution_count": 28,
   "id": "df0d3026-8c15-43f7-8788-7a46406125f4",
   "metadata": {},
   "outputs": [
    {
     "data": {
      "text/plain": [
       "<folium.vector_layers.PolyLine at 0x1e02b370110>"
      ]
     },
     "execution_count": 28,
     "metadata": {},
     "output_type": "execute_result"
    }
   ],
   "source": [
    "# Adicionar linhas conectando os pontos\n",
    "folium.PolyLine(coordenadas, color=\"#6495ED\", weight=1.0, opacity=1).add_to(mapa)"
   ]
  },
  {
   "cell_type": "code",
   "execution_count": 30,
   "id": "5da79a07-a983-4995-95b6-bd764efd8fc6",
   "metadata": {},
   "outputs": [],
   "source": [
    "# Salvar o mapa em um arquivo HTML\n",
    "mapa.save(\"mapa_cidades.html\")"
   ]
  },
  {
   "cell_type": "code",
   "execution_count": 14,
   "id": "907a29fe-0c4c-4bfb-a501-2a55df402ce6",
   "metadata": {},
   "outputs": [
    {
     "name": "stdout",
     "output_type": "stream",
     "text": [
      "Mapa gerado! Abra o arquivo 'mapa_cidades.html' no navegador.\n"
     ]
    }
   ],
   "source": [
    "print(\"Mapa gerado! Abra o arquivo 'mapa_cidades.html' no navegador.\")"
   ]
  },
  {
   "cell_type": "code",
   "execution_count": null,
   "id": "cfa426f5-d287-4a9e-9776-2c0a5aa61d63",
   "metadata": {},
   "outputs": [],
   "source": []
  }
 ],
 "metadata": {
  "kernelspec": {
   "display_name": "Python 3 (ipykernel)",
   "language": "python",
   "name": "python3"
  },
  "language_info": {
   "codemirror_mode": {
    "name": "ipython",
    "version": 3
   },
   "file_extension": ".py",
   "mimetype": "text/x-python",
   "name": "python",
   "nbconvert_exporter": "python",
   "pygments_lexer": "ipython3",
   "version": "3.12.7"
  }
 },
 "nbformat": 4,
 "nbformat_minor": 5
}
